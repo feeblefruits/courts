{
 "cells": [
  {
   "cell_type": "code",
   "execution_count": 146,
   "metadata": {},
   "outputs": [],
   "source": [
    "import pandas as pd\n",
    "import numpy as np"
   ]
  },
  {
   "cell_type": "code",
   "execution_count": 246,
   "metadata": {},
   "outputs": [],
   "source": [
    "df = pd.read_excel('criminal_df_v1.xlsx')\n",
    "\n",
    "# 2700 criminal case judgements in South Africa between 2008 and 2018"
   ]
  },
  {
   "cell_type": "code",
   "execution_count": null,
   "metadata": {},
   "outputs": [],
   "source": []
  },
  {
   "cell_type": "code",
   "execution_count": null,
   "metadata": {},
   "outputs": [],
   "source": []
  },
  {
   "cell_type": "code",
   "execution_count": null,
   "metadata": {},
   "outputs": [],
   "source": []
  },
  {
   "cell_type": "code",
   "execution_count": 248,
   "metadata": {
    "scrolled": true
   },
   "outputs": [
    {
     "name": "stdout",
     "output_type": "stream",
     "text": [
      "<class 'pandas.core.frame.DataFrame'>\n",
      "RangeIndex: 2723 entries, 0 to 2722\n",
      "Data columns (total 12 columns):\n",
      "Applicant         2722 non-null object\n",
      "Defendant         2720 non-null object\n",
      "Case No           2723 non-null object\n",
      "Judges            2723 non-null object\n",
      "Summary           2723 non-null object\n",
      "Date Heard        2072 non-null object\n",
      "Date Judgement    2318 non-null object\n",
      "Court             2723 non-null object\n",
      "Case Category     2723 non-null object\n",
      "Province          2723 non-null object\n",
      "Related Crimes    1470 non-null object\n",
      "Charge            2723 non-null object\n",
      "dtypes: object(12)\n",
      "memory usage: 255.4+ KB\n"
     ]
    }
   ],
   "source": [
    "df.info()"
   ]
  },
  {
   "cell_type": "code",
   "execution_count": 249,
   "metadata": {},
   "outputs": [
    {
     "name": "stdout",
     "output_type": "stream",
     "text": [
      "<class 'pandas.core.frame.DataFrame'>\n",
      "Int64Index: 2723 entries, 0 to 2722\n",
      "Data columns (total 12 columns):\n",
      "Applicant         2722 non-null object\n",
      "Defendant         2720 non-null object\n",
      "Case No           2723 non-null object\n",
      "Judges            2723 non-null object\n",
      "Summary           2723 non-null object\n",
      "Date Heard        2072 non-null object\n",
      "Date Judgement    2318 non-null object\n",
      "Court             2723 non-null object\n",
      "Case Category     2723 non-null object\n",
      "Province          2723 non-null object\n",
      "Related Crimes    1470 non-null object\n",
      "Charge            2723 non-null object\n",
      "dtypes: object(12)\n",
      "memory usage: 276.6+ KB\n"
     ]
    }
   ],
   "source": [
    "df.drop_duplicates().info()"
   ]
  },
  {
   "cell_type": "code",
   "execution_count": 149,
   "metadata": {},
   "outputs": [],
   "source": [
    "# to replace '\\\\'96'\n",
    "# to add bail, compensation amounts"
   ]
  },
  {
   "cell_type": "code",
   "execution_count": 150,
   "metadata": {},
   "outputs": [],
   "source": [
    "df['Charge'] = df['Charge'].replace('theft', 'robbery')\n",
    "df['Charge'] = df['Charge'].replace('prescribed sentences', 'prescribed sentence')\n",
    "df['Charge'] = df['Charge'].replace('prescribed minimum sentences', 'prescribed sentence')\n",
    "df['Charge'] = df['Charge'].replace('housebreaking with intent to steal and theft', 'housebreaking')"
   ]
  },
  {
   "cell_type": "code",
   "execution_count": 151,
   "metadata": {},
   "outputs": [
    {
     "data": {
      "text/plain": [
       "evidence               396\n",
       "rape                   275\n",
       "arrest                 196\n",
       "murder                 177\n",
       "appeal                 171\n",
       "review                 127\n",
       "prescribed sentence    118\n",
       "robbery                110\n",
       "bail                    91\n",
       "damages                 56\n",
       "Name: Charge, dtype: int64"
      ]
     },
     "execution_count": 151,
     "metadata": {},
     "output_type": "execute_result"
    }
   ],
   "source": [
    "df['Charge'].value_counts()[:10]"
   ]
  },
  {
   "cell_type": "code",
   "execution_count": 152,
   "metadata": {},
   "outputs": [],
   "source": [
    "# lack of information\n",
    "\n",
    "# remit\n",
    "# dismiss\n",
    "# inadmissible, common law position restored\n",
    "# set aside\n",
    "# appeal granted, appeal upheld\n",
    "\n",
    "# life sentence (25 years) and amount\n",
    "# prison sentence and amount\n",
    "# bail and amount"
   ]
  },
  {
   "cell_type": "code",
   "execution_count": 167,
   "metadata": {},
   "outputs": [],
   "source": [
    "from textblob import TextBlob\n",
    "import nltk\n",
    "lemma = nltk.wordnet.WordNetLemmatizer()\n",
    "\n",
    "def lemma_words(text):\n",
    "    \n",
    "    # returns clean text with infinitive verbs\n",
    "\n",
    "    blob = TextBlob(text)\n",
    "    blob_words = list(blob.words)\n",
    "    \n",
    "    blob_lst = []\n",
    "\n",
    "    for word in blob_words:\n",
    "        \n",
    "        new_word = lemma.lemmatize(word, 'v')\n",
    "\n",
    "        blob_lst.append(new_word)\n",
    "        \n",
    "    return ' '.join(blob_lst)"
   ]
  },
  {
   "cell_type": "code",
   "execution_count": 154,
   "metadata": {},
   "outputs": [],
   "source": [
    "def get_sentence_years(blob):\n",
    "\n",
    "    sentence_lst = []\n",
    "\n",
    "    # extract ngrams that include keywords like sentence, imprisonment and not old and age\n",
    "\n",
    "    for lst in blob.ngrams(3):\n",
    "        if 'years' in lst and ('old' not in lst and 'age' not in lst):\n",
    "            sentence_lst.append(list(lst))\n",
    "\n",
    "    concatted = []\n",
    "\n",
    "    for item in sentence_lst:     \n",
    "        concatted.append(' '.join(item))\n",
    "\n",
    "    concatted = ' '.join(concatted)\n",
    "    sentence_phrase = list(dict.fromkeys(concatted.split()))\n",
    "\n",
    "    # append ints that are mentioned in sentence_phrase \n",
    "\n",
    "    amount = []\n",
    "\n",
    "    for word in sentence_phrase:\n",
    "        try:\n",
    "            amount.append(int(word))\n",
    "        except ValueError:\n",
    "            pass\n",
    "    return amount"
   ]
  },
  {
   "cell_type": "code",
   "execution_count": 155,
   "metadata": {},
   "outputs": [],
   "source": [
    "def get_verdict(text):\n",
    "    \n",
    "    text = text.replace('life sentence', '25 years sentence')\n",
    "    text = text.replace('sentenced to life', '25 years sentence')\n",
    "    text = text.replace('life imprisonment', '25 years sentence')\n",
    "    text = text.replace('life in prison', '25 years sentence')\n",
    "    \n",
    "    text = lemma_words(text)\n",
    "    \n",
    "    blob = TextBlob(text)\n",
    "    \n",
    "    blob_lst = blob.ngrams(4)\n",
    "    \n",
    "    try:\n",
    "        \n",
    "        amount = get_sentence_years(blob)\n",
    "        \n",
    "        for item in blob_lst:\n",
    "\n",
    "            if 'remit' in item:\n",
    "                verdict = 'Remitted'\n",
    "\n",
    "            elif 'inadmissible' in item or ('law' in item and 'position' in item and 'restored' in item):\n",
    "                verdict = 'Inadmissible'\n",
    "\n",
    "            elif 'set' in item and 'aside' in item:\n",
    "                verdict = 'Set Aside'\n",
    "\n",
    "            elif 'uphold' in item and 'grant' in item:\n",
    "                verdict = 'Appeal Granted'\n",
    "\n",
    "            elif 'uphold' in item and 'appeal' in item:\n",
    "                verdict = 'Appeal Upheld'\n",
    "\n",
    "            elif 'appeal' in item and 'dismiss' in item:\n",
    "                verdict = 'Appeal Dismissed'\n",
    "\n",
    "            elif 'award' in item or 'compensate' in item or 'compensation' in item:\n",
    "                verdict = 'Compensation'\n",
    "\n",
    "            elif 'suspend' in item and ('court' in item or 'sentence' in item):\n",
    "                verdict = 'Suspended'\n",
    "                \n",
    "            elif 'sentence' in item or 'imprisonment' in item:\n",
    "                verdict = 'Sentenced'\n",
    "                \n",
    "        return verdict, amount\n",
    "    \n",
    "    except UnboundLocalError:\n",
    "        return np.nan, amount"
   ]
  },
  {
   "cell_type": "code",
   "execution_count": 156,
   "metadata": {},
   "outputs": [
    {
     "data": {
      "text/plain": [
       "('Compensation', [])"
      ]
     },
     "execution_count": 156,
     "metadata": {},
     "output_type": "execute_result"
    }
   ],
   "source": [
    "get_verdict(df['Summary'][50])"
   ]
  },
  {
   "cell_type": "code",
   "execution_count": 158,
   "metadata": {},
   "outputs": [
    {
     "data": {
      "text/plain": [
       "'criminal law. arrest. arrest without a warrant. criminal procedure act 51 of 1977, s 40(1)(b). assault complaint (domestic abuse). no investigation whether of such nature that amounting to sch 1 offence. arrest and detention unlawful. plaintiff later pleading guilty to assault and no malice in arrest. awarded damages of r72 000.'"
      ]
     },
     "execution_count": 158,
     "metadata": {},
     "output_type": "execute_result"
    }
   ],
   "source": [
    "text_test"
   ]
  },
  {
   "cell_type": "code",
   "execution_count": 164,
   "metadata": {},
   "outputs": [],
   "source": [
    "# return space after result\n",
    "# return ints after result and space"
   ]
  },
  {
   "cell_type": "code",
   "execution_count": 165,
   "metadata": {},
   "outputs": [],
   "source": [
    "df['Verdict'] = df['Summary'].apply(get_verdict)"
   ]
  },
  {
   "cell_type": "code",
   "execution_count": 183,
   "metadata": {},
   "outputs": [],
   "source": [
    "# df.to_csv('case_verdicts.csv')"
   ]
  },
  {
   "cell_type": "code",
   "execution_count": 185,
   "metadata": {},
   "outputs": [
    {
     "data": {
      "text/plain": [
       "'criminal law. murder. sentence. premeditated murder and 3 counts of assault with intent to do grievous bodily harm. deceased shot multiple times by husband on baseless suspicion of adultery. members of community assaulted on various occasions. first offender, 43 years old and 9 children within and outside of marriage. prone to committing violent crimes. substantial and compelling circumstances present, however, on conspectus of all personal circumstances. effective sentence of 23 years imposed.'"
      ]
     },
     "execution_count": 185,
     "metadata": {},
     "output_type": "execute_result"
    }
   ],
   "source": [
    "df['Summary'][38]"
   ]
  },
  {
   "cell_type": "code",
   "execution_count": 242,
   "metadata": {},
   "outputs": [],
   "source": [
    "# double check"
   ]
  },
  {
   "cell_type": "code",
   "execution_count": 244,
   "metadata": {},
   "outputs": [
    {
     "name": "stdout",
     "output_type": "stream",
     "text": [
      "<class 'pandas.core.frame.DataFrame'>\n",
      "RangeIndex: 2723 entries, 0 to 2722\n",
      "Data columns (total 13 columns):\n",
      "Applicant         2722 non-null object\n",
      "Defendant         2720 non-null object\n",
      "Case No           2723 non-null object\n",
      "Judges            2723 non-null object\n",
      "Summary           2723 non-null object\n",
      "Date Heard        2072 non-null object\n",
      "Date Judgement    2318 non-null object\n",
      "Court             2723 non-null object\n",
      "Case Category     2723 non-null object\n",
      "Province          2723 non-null object\n",
      "Related Crimes    1470 non-null object\n",
      "Charge            2723 non-null object\n",
      "Verdict           2723 non-null object\n",
      "dtypes: object(13)\n",
      "memory usage: 276.6+ KB\n"
     ]
    }
   ],
   "source": [
    "df.info()"
   ]
  },
  {
   "cell_type": "code",
   "execution_count": 245,
   "metadata": {},
   "outputs": [
    {
     "ename": "TypeError",
     "evalue": "unhashable type: 'list'",
     "output_type": "error",
     "traceback": [
      "\u001b[0;31m---------------------------------------------------------------------------\u001b[0m",
      "\u001b[0;31mTypeError\u001b[0m                                 Traceback (most recent call last)",
      "\u001b[0;32m<ipython-input-245-c128d71b3023>\u001b[0m in \u001b[0;36m<module>\u001b[0;34m\u001b[0m\n\u001b[0;32m----> 1\u001b[0;31m \u001b[0mdf\u001b[0m\u001b[0;34m.\u001b[0m\u001b[0mdrop_duplicates\u001b[0m\u001b[0;34m(\u001b[0m\u001b[0;34m)\u001b[0m\u001b[0;34m\u001b[0m\u001b[0m\n\u001b[0m",
      "\u001b[0;32m/usr/local/anaconda3/envs/mine/lib/python3.6/site-packages/pandas/core/frame.py\u001b[0m in \u001b[0;36mdrop_duplicates\u001b[0;34m(self, subset, keep, inplace)\u001b[0m\n\u001b[1;32m   4329\u001b[0m         \"\"\"\n\u001b[1;32m   4330\u001b[0m         \u001b[0minplace\u001b[0m \u001b[0;34m=\u001b[0m \u001b[0mvalidate_bool_kwarg\u001b[0m\u001b[0;34m(\u001b[0m\u001b[0minplace\u001b[0m\u001b[0;34m,\u001b[0m \u001b[0;34m'inplace'\u001b[0m\u001b[0;34m)\u001b[0m\u001b[0;34m\u001b[0m\u001b[0m\n\u001b[0;32m-> 4331\u001b[0;31m         \u001b[0mduplicated\u001b[0m \u001b[0;34m=\u001b[0m \u001b[0mself\u001b[0m\u001b[0;34m.\u001b[0m\u001b[0mduplicated\u001b[0m\u001b[0;34m(\u001b[0m\u001b[0msubset\u001b[0m\u001b[0;34m,\u001b[0m \u001b[0mkeep\u001b[0m\u001b[0;34m=\u001b[0m\u001b[0mkeep\u001b[0m\u001b[0;34m)\u001b[0m\u001b[0;34m\u001b[0m\u001b[0m\n\u001b[0m\u001b[1;32m   4332\u001b[0m \u001b[0;34m\u001b[0m\u001b[0m\n\u001b[1;32m   4333\u001b[0m         \u001b[0;32mif\u001b[0m \u001b[0minplace\u001b[0m\u001b[0;34m:\u001b[0m\u001b[0;34m\u001b[0m\u001b[0m\n",
      "\u001b[0;32m/usr/local/anaconda3/envs/mine/lib/python3.6/site-packages/pandas/core/frame.py\u001b[0m in \u001b[0;36mduplicated\u001b[0;34m(self, subset, keep)\u001b[0m\n\u001b[1;32m   4383\u001b[0m         vals = (col.values for name, col in self.iteritems()\n\u001b[1;32m   4384\u001b[0m                 if name in subset)\n\u001b[0;32m-> 4385\u001b[0;31m         \u001b[0mlabels\u001b[0m\u001b[0;34m,\u001b[0m \u001b[0mshape\u001b[0m \u001b[0;34m=\u001b[0m \u001b[0mmap\u001b[0m\u001b[0;34m(\u001b[0m\u001b[0mlist\u001b[0m\u001b[0;34m,\u001b[0m \u001b[0mzip\u001b[0m\u001b[0;34m(\u001b[0m\u001b[0;34m*\u001b[0m\u001b[0mmap\u001b[0m\u001b[0;34m(\u001b[0m\u001b[0mf\u001b[0m\u001b[0;34m,\u001b[0m \u001b[0mvals\u001b[0m\u001b[0;34m)\u001b[0m\u001b[0;34m)\u001b[0m\u001b[0;34m)\u001b[0m\u001b[0;34m\u001b[0m\u001b[0m\n\u001b[0m\u001b[1;32m   4386\u001b[0m \u001b[0;34m\u001b[0m\u001b[0m\n\u001b[1;32m   4387\u001b[0m         \u001b[0mids\u001b[0m \u001b[0;34m=\u001b[0m \u001b[0mget_group_index\u001b[0m\u001b[0;34m(\u001b[0m\u001b[0mlabels\u001b[0m\u001b[0;34m,\u001b[0m \u001b[0mshape\u001b[0m\u001b[0;34m,\u001b[0m \u001b[0msort\u001b[0m\u001b[0;34m=\u001b[0m\u001b[0;32mFalse\u001b[0m\u001b[0;34m,\u001b[0m \u001b[0mxnull\u001b[0m\u001b[0;34m=\u001b[0m\u001b[0;32mFalse\u001b[0m\u001b[0;34m)\u001b[0m\u001b[0;34m\u001b[0m\u001b[0m\n",
      "\u001b[0;32m/usr/local/anaconda3/envs/mine/lib/python3.6/site-packages/pandas/core/frame.py\u001b[0m in \u001b[0;36mf\u001b[0;34m(vals)\u001b[0m\n\u001b[1;32m   4364\u001b[0m         \u001b[0;32mdef\u001b[0m \u001b[0mf\u001b[0m\u001b[0;34m(\u001b[0m\u001b[0mvals\u001b[0m\u001b[0;34m)\u001b[0m\u001b[0;34m:\u001b[0m\u001b[0;34m\u001b[0m\u001b[0m\n\u001b[1;32m   4365\u001b[0m             labels, shape = algorithms.factorize(\n\u001b[0;32m-> 4366\u001b[0;31m                 vals, size_hint=min(len(self), _SIZE_HINT_LIMIT))\n\u001b[0m\u001b[1;32m   4367\u001b[0m             \u001b[0;32mreturn\u001b[0m \u001b[0mlabels\u001b[0m\u001b[0;34m.\u001b[0m\u001b[0mastype\u001b[0m\u001b[0;34m(\u001b[0m\u001b[0;34m'i8'\u001b[0m\u001b[0;34m,\u001b[0m \u001b[0mcopy\u001b[0m\u001b[0;34m=\u001b[0m\u001b[0;32mFalse\u001b[0m\u001b[0;34m)\u001b[0m\u001b[0;34m,\u001b[0m \u001b[0mlen\u001b[0m\u001b[0;34m(\u001b[0m\u001b[0mshape\u001b[0m\u001b[0;34m)\u001b[0m\u001b[0;34m\u001b[0m\u001b[0m\n\u001b[1;32m   4368\u001b[0m \u001b[0;34m\u001b[0m\u001b[0m\n",
      "\u001b[0;32m/usr/local/anaconda3/envs/mine/lib/python3.6/site-packages/pandas/util/_decorators.py\u001b[0m in \u001b[0;36mwrapper\u001b[0;34m(*args, **kwargs)\u001b[0m\n\u001b[1;32m    176\u001b[0m                 \u001b[0;32melse\u001b[0m\u001b[0;34m:\u001b[0m\u001b[0;34m\u001b[0m\u001b[0m\n\u001b[1;32m    177\u001b[0m                     \u001b[0mkwargs\u001b[0m\u001b[0;34m[\u001b[0m\u001b[0mnew_arg_name\u001b[0m\u001b[0;34m]\u001b[0m \u001b[0;34m=\u001b[0m \u001b[0mnew_arg_value\u001b[0m\u001b[0;34m\u001b[0m\u001b[0m\n\u001b[0;32m--> 178\u001b[0;31m             \u001b[0;32mreturn\u001b[0m \u001b[0mfunc\u001b[0m\u001b[0;34m(\u001b[0m\u001b[0;34m*\u001b[0m\u001b[0margs\u001b[0m\u001b[0;34m,\u001b[0m \u001b[0;34m**\u001b[0m\u001b[0mkwargs\u001b[0m\u001b[0;34m)\u001b[0m\u001b[0;34m\u001b[0m\u001b[0m\n\u001b[0m\u001b[1;32m    179\u001b[0m         \u001b[0;32mreturn\u001b[0m \u001b[0mwrapper\u001b[0m\u001b[0;34m\u001b[0m\u001b[0m\n\u001b[1;32m    180\u001b[0m     \u001b[0;32mreturn\u001b[0m \u001b[0m_deprecate_kwarg\u001b[0m\u001b[0;34m\u001b[0m\u001b[0m\n",
      "\u001b[0;32m/usr/local/anaconda3/envs/mine/lib/python3.6/site-packages/pandas/core/algorithms.py\u001b[0m in \u001b[0;36mfactorize\u001b[0;34m(values, sort, order, na_sentinel, size_hint)\u001b[0m\n\u001b[1;32m    628\u001b[0m                                            \u001b[0mna_sentinel\u001b[0m\u001b[0;34m=\u001b[0m\u001b[0mna_sentinel\u001b[0m\u001b[0;34m,\u001b[0m\u001b[0;34m\u001b[0m\u001b[0m\n\u001b[1;32m    629\u001b[0m                                            \u001b[0msize_hint\u001b[0m\u001b[0;34m=\u001b[0m\u001b[0msize_hint\u001b[0m\u001b[0;34m,\u001b[0m\u001b[0;34m\u001b[0m\u001b[0m\n\u001b[0;32m--> 630\u001b[0;31m                                            na_value=na_value)\n\u001b[0m\u001b[1;32m    631\u001b[0m \u001b[0;34m\u001b[0m\u001b[0m\n\u001b[1;32m    632\u001b[0m     \u001b[0;32mif\u001b[0m \u001b[0msort\u001b[0m \u001b[0;32mand\u001b[0m \u001b[0mlen\u001b[0m\u001b[0;34m(\u001b[0m\u001b[0muniques\u001b[0m\u001b[0;34m)\u001b[0m \u001b[0;34m>\u001b[0m \u001b[0;36m0\u001b[0m\u001b[0;34m:\u001b[0m\u001b[0;34m\u001b[0m\u001b[0m\n",
      "\u001b[0;32m/usr/local/anaconda3/envs/mine/lib/python3.6/site-packages/pandas/core/algorithms.py\u001b[0m in \u001b[0;36m_factorize_array\u001b[0;34m(values, na_sentinel, size_hint, na_value)\u001b[0m\n\u001b[1;32m    474\u001b[0m     \u001b[0muniques\u001b[0m \u001b[0;34m=\u001b[0m \u001b[0mvec_klass\u001b[0m\u001b[0;34m(\u001b[0m\u001b[0;34m)\u001b[0m\u001b[0;34m\u001b[0m\u001b[0m\n\u001b[1;32m    475\u001b[0m     labels = table.get_labels(values, uniques, 0, na_sentinel,\n\u001b[0;32m--> 476\u001b[0;31m                               na_value=na_value)\n\u001b[0m\u001b[1;32m    477\u001b[0m \u001b[0;34m\u001b[0m\u001b[0m\n\u001b[1;32m    478\u001b[0m     \u001b[0mlabels\u001b[0m \u001b[0;34m=\u001b[0m \u001b[0m_ensure_platform_int\u001b[0m\u001b[0;34m(\u001b[0m\u001b[0mlabels\u001b[0m\u001b[0;34m)\u001b[0m\u001b[0;34m\u001b[0m\u001b[0m\n",
      "\u001b[0;32mpandas/_libs/hashtable_class_helper.pxi\u001b[0m in \u001b[0;36mpandas._libs.hashtable.PyObjectHashTable.get_labels\u001b[0;34m()\u001b[0m\n",
      "\u001b[0;31mTypeError\u001b[0m: unhashable type: 'list'"
     ]
    }
   ],
   "source": [
    "df.drop_duplicates()"
   ]
  },
  {
   "cell_type": "code",
   "execution_count": null,
   "metadata": {},
   "outputs": [],
   "source": []
  }
 ],
 "metadata": {
  "kernelspec": {
   "display_name": "Python 3",
   "language": "python",
   "name": "python3"
  },
  "language_info": {
   "codemirror_mode": {
    "name": "ipython",
    "version": 3
   },
   "file_extension": ".py",
   "mimetype": "text/x-python",
   "name": "python",
   "nbconvert_exporter": "python",
   "pygments_lexer": "ipython3",
   "version": "3.6.6"
  }
 },
 "nbformat": 4,
 "nbformat_minor": 2
}
